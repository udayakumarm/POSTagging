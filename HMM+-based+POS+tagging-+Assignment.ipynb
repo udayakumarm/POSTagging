{
 "cells": [
  {
   "cell_type": "markdown",
   "metadata": {},
   "source": [
    "## POS tagging using modified Viterbi\n",
    "\n",
    "\n",
    "### HMMs and Viterbi algorithm for POS tagging.\n",
    "### Modify the Viterbi algorithm to solve the problem of unknown words using at least two techniques."
   ]
  },
  {
   "cell_type": "markdown",
   "metadata": {},
   "source": [
    "### Data Preparation"
   ]
  },
  {
   "cell_type": "code",
   "execution_count": 290,
   "metadata": {},
   "outputs": [],
   "source": [
    "#Importing libraries\n",
    "import nltk\n",
    "import random\n",
    "from sklearn.model_selection import train_test_split\n",
    "\n",
    "from collections import Counter\n",
    "import numpy as np\n",
    "import pandas as pd\n",
    "import pprint, time\n",
    "\n",
    "from nltk.tokenize import word_tokenize\n",
    "import matplotlib.pyplot as plt\n",
    "import seaborn as sns"
   ]
  },
  {
   "cell_type": "code",
   "execution_count": 291,
   "metadata": {},
   "outputs": [],
   "source": [
    "# Reading the Treebank tagged sentences\n",
    "nltk_data = list(nltk.corpus.treebank.tagged_sents(tagset='universal'))"
   ]
  },
  {
   "cell_type": "code",
   "execution_count": 292,
   "metadata": {},
   "outputs": [
    {
     "name": "stdout",
     "output_type": "stream",
     "text": [
      "[[('Pierre', 'NOUN'), ('Vinken', 'NOUN'), (',', '.'), ('61', 'NUM'), ('years', 'NOUN'), ('old', 'ADJ'), (',', '.'), ('will', 'VERB'), ('join', 'VERB'), ('the', 'DET'), ('board', 'NOUN'), ('as', 'ADP'), ('a', 'DET'), ('nonexecutive', 'ADJ'), ('director', 'NOUN'), ('Nov.', 'NOUN'), ('29', 'NUM'), ('.', '.')], [('Mr.', 'NOUN'), ('Vinken', 'NOUN'), ('is', 'VERB'), ('chairman', 'NOUN'), ('of', 'ADP'), ('Elsevier', 'NOUN'), ('N.V.', 'NOUN'), (',', '.'), ('the', 'DET'), ('Dutch', 'NOUN'), ('publishing', 'VERB'), ('group', 'NOUN'), ('.', '.')]]\n"
     ]
    }
   ],
   "source": [
    "# first few tagged sentences\n",
    "print(nltk_data[:2])"
   ]
  },
  {
   "cell_type": "code",
   "execution_count": 293,
   "metadata": {},
   "outputs": [
    {
     "name": "stdout",
     "output_type": "stream",
     "text": [
      "100676\n"
     ]
    },
    {
     "data": {
      "text/plain": [
       "[('NOUN', 28867),\n",
       " ('VERB', 13564),\n",
       " ('.', 11715),\n",
       " ('ADP', 9857),\n",
       " ('DET', 8725),\n",
       " ('X', 6613),\n",
       " ('ADJ', 6397),\n",
       " ('NUM', 3546),\n",
       " ('PRT', 3219),\n",
       " ('ADV', 3171),\n",
       " ('PRON', 2737),\n",
       " ('CONJ', 2265)]"
      ]
     },
     "execution_count": 293,
     "metadata": {},
     "output_type": "execute_result"
    }
   ],
   "source": [
    "## Frequency Distribution\n",
    "\n",
    "tag_words = [tup for sent in nltk_data for tup in sent]\n",
    "print (len(tag_words))\n",
    "tag_fd = nltk.FreqDist(tag for (word, tag) in tag_words)\n",
    "tag_fd.most_common()"
   ]
  },
  {
   "cell_type": "code",
   "execution_count": 294,
   "metadata": {},
   "outputs": [
    {
     "name": "stdout",
     "output_type": "stream",
     "text": [
      "Counter({'NOUN': 28867, 'VERB': 13564, '.': 11715, 'ADP': 9857, 'DET': 8725, 'X': 6613, 'ADJ': 6397, 'NUM': 3546, 'PRT': 3219, 'ADV': 3171, 'PRON': 2737, 'CONJ': 2265})\n"
     ]
    }
   ],
   "source": [
    "## Checking the Frequency count using Counter\n",
    "\n",
    "tag_counts = Counter([tag[1] for sent in nltk_data for tag in sent])\n",
    "print (tag_counts)"
   ]
  },
  {
   "cell_type": "markdown",
   "metadata": {},
   "source": [
    "## Insert the 95% train & 5% validation as stated in the problem statement"
   ]
  },
  {
   "cell_type": "code",
   "execution_count": 295,
   "metadata": {},
   "outputs": [
    {
     "name": "stdout",
     "output_type": "stream",
     "text": [
      "3718\n",
      "196\n"
     ]
    }
   ],
   "source": [
    "## Splitting into train and test\n",
    "## 95% train & 5% test\n",
    "\n",
    "random.seed(1234)\n",
    "train_set, test_set = train_test_split(nltk_data,test_size=0.05)\n",
    "\n",
    "print(len(train_set))\n",
    "print(len(test_set))\n",
    "#print(train_set[:40])"
   ]
  },
  {
   "cell_type": "code",
   "execution_count": 296,
   "metadata": {},
   "outputs": [
    {
     "data": {
      "text/plain": [
       "95699"
      ]
     },
     "execution_count": 296,
     "metadata": {},
     "output_type": "execute_result"
    }
   ],
   "source": [
    "## Getting list of tagged words\n",
    "\n",
    "train_tagged_words = [tup for sent in train_set for tup in sent]\n",
    "len(train_tagged_words)"
   ]
  },
  {
   "cell_type": "code",
   "execution_count": 297,
   "metadata": {},
   "outputs": [
    {
     "data": {
      "text/plain": [
       "['Preston', 'G.', 'Foster', 'Birmingham', ',', 'Ala', '.', '``', 'Cosby', \"''\"]"
      ]
     },
     "execution_count": 297,
     "metadata": {},
     "output_type": "execute_result"
    }
   ],
   "source": [
    "## Get the list of all the words\n",
    "\n",
    "tokens = [pair[0] for pair in train_tagged_words]\n",
    "tokens[:10]"
   ]
  },
  {
   "cell_type": "code",
   "execution_count": 298,
   "metadata": {},
   "outputs": [
    {
     "name": "stdout",
     "output_type": "stream",
     "text": [
      "12101\n"
     ]
    }
   ],
   "source": [
    "## unique word list in the training corpus\n",
    "\n",
    "V = set(tokens)\n",
    "\n",
    "print(len(V))"
   ]
  },
  {
   "cell_type": "code",
   "execution_count": 299,
   "metadata": {},
   "outputs": [
    {
     "name": "stdout",
     "output_type": "stream",
     "text": [
      "12\n",
      "{'VERB', 'NOUN', 'ADJ', 'DET', 'ADP', 'NUM', 'X', 'CONJ', 'PRT', 'PRON', '.', 'ADV'}\n"
     ]
    }
   ],
   "source": [
    "## Unique number of tags in the corpus\n",
    "\n",
    "T = set([pair[1] for pair in train_tagged_words])\n",
    "print (len(T))\n",
    "print (T)\n"
   ]
  },
  {
   "cell_type": "code",
   "execution_count": 300,
   "metadata": {},
   "outputs": [],
   "source": [
    "# computing P(w/t) and storing in T x V matrix\n",
    "t = len(T)\n",
    "v = len(V)\n",
    "#w_given_t = np.zeros((t, v))"
   ]
  },
  {
   "cell_type": "markdown",
   "metadata": {},
   "source": [
    "# Emission Probability"
   ]
  },
  {
   "cell_type": "code",
   "execution_count": 301,
   "metadata": {},
   "outputs": [],
   "source": [
    "# Emission Probability - \n",
    "## for given word-tag, ratio of the number of times the word is tagged with the specific tag by\n",
    "## the number of words in the training corpus\n",
    "\n",
    "def word_given_tag(word, tag, train_bag = train_tagged_words):\n",
    "    tag_list = [pair for pair in train_bag if pair[1]==tag]\n",
    "    count_tag = len(tag_list)\n",
    "    w_given_tag_list = [pair[0] for pair in tag_list if pair[0]==word]\n",
    "    count_w_given_tag = len(w_given_tag_list)\n",
    "\n",
    "    return (count_w_given_tag, count_tag)"
   ]
  },
  {
   "cell_type": "markdown",
   "metadata": {},
   "source": [
    "# Transition Probability"
   ]
  },
  {
   "cell_type": "code",
   "execution_count": 302,
   "metadata": {},
   "outputs": [],
   "source": [
    "## Transitions Probability -\n",
    "## \n",
    "\n",
    "def t2_given_t1(t2, t1, train_bag = train_tagged_words):\n",
    "    tags = [pair[1] for pair in train_bag]\n",
    "    count_t1 = len([t for t in tags if t==t1])\n",
    "    count_t2_t1 = 0\n",
    "    for index in range(len(tags)-1):\n",
    "        if tags[index]==t1 and tags[index+1] == t2:\n",
    "            count_t2_t1 += 1\n",
    "    return (count_t2_t1, count_t1)"
   ]
  },
  {
   "cell_type": "code",
   "execution_count": 303,
   "metadata": {},
   "outputs": [],
   "source": [
    "# creating t x t transition matrix of tags\n",
    "# each column is t2, each row is t1\n",
    "# thus M(i, j) represents P(tj given ti)\n",
    "\n",
    "tags_matrix = np.zeros((len(T), len(T)), dtype='float32')\n",
    "for i, t1 in enumerate(list(T)):\n",
    "    for j, t2 in enumerate(list(T)): \n",
    "        tags_matrix[i, j] = t2_given_t1(t2, t1)[0]/t2_given_t1(t2, t1)[1]"
   ]
  },
  {
   "cell_type": "code",
   "execution_count": 304,
   "metadata": {},
   "outputs": [],
   "source": [
    "# convert the matrix to a df for better readability\n",
    "tags_df = pd.DataFrame(tags_matrix, columns = list(T), index=list(T))"
   ]
  },
  {
   "cell_type": "code",
   "execution_count": 305,
   "metadata": {},
   "outputs": [
    {
     "data": {
      "text/html": [
       "<div>\n",
       "<style scoped>\n",
       "    .dataframe tbody tr th:only-of-type {\n",
       "        vertical-align: middle;\n",
       "    }\n",
       "\n",
       "    .dataframe tbody tr th {\n",
       "        vertical-align: top;\n",
       "    }\n",
       "\n",
       "    .dataframe thead th {\n",
       "        text-align: right;\n",
       "    }\n",
       "</style>\n",
       "<table border=\"1\" class=\"dataframe\">\n",
       "  <thead>\n",
       "    <tr style=\"text-align: right;\">\n",
       "      <th></th>\n",
       "      <th>VERB</th>\n",
       "      <th>NOUN</th>\n",
       "      <th>ADJ</th>\n",
       "      <th>DET</th>\n",
       "      <th>ADP</th>\n",
       "      <th>NUM</th>\n",
       "      <th>X</th>\n",
       "      <th>CONJ</th>\n",
       "      <th>PRT</th>\n",
       "      <th>PRON</th>\n",
       "      <th>.</th>\n",
       "      <th>ADV</th>\n",
       "    </tr>\n",
       "  </thead>\n",
       "  <tbody>\n",
       "    <tr>\n",
       "      <th>VERB</th>\n",
       "      <td>0.168324</td>\n",
       "      <td>0.109756</td>\n",
       "      <td>0.065558</td>\n",
       "      <td>0.134069</td>\n",
       "      <td>0.091813</td>\n",
       "      <td>0.022371</td>\n",
       "      <td>0.218269</td>\n",
       "      <td>0.005282</td>\n",
       "      <td>0.031303</td>\n",
       "      <td>0.035343</td>\n",
       "      <td>0.035110</td>\n",
       "      <td>0.082803</td>\n",
       "    </tr>\n",
       "    <tr>\n",
       "      <th>NOUN</th>\n",
       "      <td>0.147047</td>\n",
       "      <td>0.264474</td>\n",
       "      <td>0.012336</td>\n",
       "      <td>0.013100</td>\n",
       "      <td>0.176304</td>\n",
       "      <td>0.009534</td>\n",
       "      <td>0.028820</td>\n",
       "      <td>0.043303</td>\n",
       "      <td>0.044067</td>\n",
       "      <td>0.004767</td>\n",
       "      <td>0.239475</td>\n",
       "      <td>0.016775</td>\n",
       "    </tr>\n",
       "    <tr>\n",
       "      <th>ADJ</th>\n",
       "      <td>0.011513</td>\n",
       "      <td>0.699342</td>\n",
       "      <td>0.066776</td>\n",
       "      <td>0.004770</td>\n",
       "      <td>0.077467</td>\n",
       "      <td>0.021217</td>\n",
       "      <td>0.020724</td>\n",
       "      <td>0.016941</td>\n",
       "      <td>0.011020</td>\n",
       "      <td>0.000658</td>\n",
       "      <td>0.064803</td>\n",
       "      <td>0.004770</td>\n",
       "    </tr>\n",
       "    <tr>\n",
       "      <th>DET</th>\n",
       "      <td>0.039604</td>\n",
       "      <td>0.640063</td>\n",
       "      <td>0.204419</td>\n",
       "      <td>0.005433</td>\n",
       "      <td>0.009297</td>\n",
       "      <td>0.022217</td>\n",
       "      <td>0.044434</td>\n",
       "      <td>0.000483</td>\n",
       "      <td>0.000241</td>\n",
       "      <td>0.003502</td>\n",
       "      <td>0.017749</td>\n",
       "      <td>0.012557</td>\n",
       "    </tr>\n",
       "    <tr>\n",
       "      <th>ADP</th>\n",
       "      <td>0.008658</td>\n",
       "      <td>0.323536</td>\n",
       "      <td>0.106563</td>\n",
       "      <td>0.323856</td>\n",
       "      <td>0.016888</td>\n",
       "      <td>0.061992</td>\n",
       "      <td>0.034096</td>\n",
       "      <td>0.000855</td>\n",
       "      <td>0.001389</td>\n",
       "      <td>0.068726</td>\n",
       "      <td>0.040402</td>\n",
       "      <td>0.013040</td>\n",
       "    </tr>\n",
       "    <tr>\n",
       "      <th>NUM</th>\n",
       "      <td>0.018392</td>\n",
       "      <td>0.353604</td>\n",
       "      <td>0.032631</td>\n",
       "      <td>0.003263</td>\n",
       "      <td>0.034411</td>\n",
       "      <td>0.185998</td>\n",
       "      <td>0.212993</td>\n",
       "      <td>0.013942</td>\n",
       "      <td>0.026698</td>\n",
       "      <td>0.001483</td>\n",
       "      <td>0.113913</td>\n",
       "      <td>0.002670</td>\n",
       "    </tr>\n",
       "    <tr>\n",
       "      <th>X</th>\n",
       "      <td>0.202265</td>\n",
       "      <td>0.062211</td>\n",
       "      <td>0.016271</td>\n",
       "      <td>0.055511</td>\n",
       "      <td>0.144202</td>\n",
       "      <td>0.002552</td>\n",
       "      <td>0.074813</td>\n",
       "      <td>0.010368</td>\n",
       "      <td>0.185676</td>\n",
       "      <td>0.056149</td>\n",
       "      <td>0.164620</td>\n",
       "      <td>0.025363</td>\n",
       "    </tr>\n",
       "    <tr>\n",
       "      <th>CONJ</th>\n",
       "      <td>0.159059</td>\n",
       "      <td>0.349470</td>\n",
       "      <td>0.117566</td>\n",
       "      <td>0.118949</td>\n",
       "      <td>0.053020</td>\n",
       "      <td>0.041955</td>\n",
       "      <td>0.008299</td>\n",
       "      <td>0.000461</td>\n",
       "      <td>0.004149</td>\n",
       "      <td>0.056708</td>\n",
       "      <td>0.035500</td>\n",
       "      <td>0.054864</td>\n",
       "    </tr>\n",
       "    <tr>\n",
       "      <th>PRT</th>\n",
       "      <td>0.401305</td>\n",
       "      <td>0.247961</td>\n",
       "      <td>0.084829</td>\n",
       "      <td>0.101794</td>\n",
       "      <td>0.019576</td>\n",
       "      <td>0.056770</td>\n",
       "      <td>0.012724</td>\n",
       "      <td>0.002284</td>\n",
       "      <td>0.001958</td>\n",
       "      <td>0.018923</td>\n",
       "      <td>0.042088</td>\n",
       "      <td>0.009788</td>\n",
       "    </tr>\n",
       "    <tr>\n",
       "      <th>PRON</th>\n",
       "      <td>0.484755</td>\n",
       "      <td>0.210343</td>\n",
       "      <td>0.073717</td>\n",
       "      <td>0.010035</td>\n",
       "      <td>0.022385</td>\n",
       "      <td>0.007333</td>\n",
       "      <td>0.091856</td>\n",
       "      <td>0.005017</td>\n",
       "      <td>0.012350</td>\n",
       "      <td>0.006947</td>\n",
       "      <td>0.041297</td>\n",
       "      <td>0.033964</td>\n",
       "    </tr>\n",
       "    <tr>\n",
       "      <th>.</th>\n",
       "      <td>0.088568</td>\n",
       "      <td>0.222452</td>\n",
       "      <td>0.044149</td>\n",
       "      <td>0.173277</td>\n",
       "      <td>0.091080</td>\n",
       "      <td>0.081120</td>\n",
       "      <td>0.027100</td>\n",
       "      <td>0.057520</td>\n",
       "      <td>0.002333</td>\n",
       "      <td>0.065147</td>\n",
       "      <td>0.094311</td>\n",
       "      <td>0.052854</td>\n",
       "    </tr>\n",
       "    <tr>\n",
       "      <th>ADV</th>\n",
       "      <td>0.344382</td>\n",
       "      <td>0.031488</td>\n",
       "      <td>0.129599</td>\n",
       "      <td>0.068280</td>\n",
       "      <td>0.117667</td>\n",
       "      <td>0.032151</td>\n",
       "      <td>0.023202</td>\n",
       "      <td>0.007292</td>\n",
       "      <td>0.013921</td>\n",
       "      <td>0.015578</td>\n",
       "      <td>0.136560</td>\n",
       "      <td>0.079881</td>\n",
       "    </tr>\n",
       "  </tbody>\n",
       "</table>\n",
       "</div>"
      ],
      "text/plain": [
       "          VERB      NOUN       ADJ       DET       ADP       NUM         X  \\\n",
       "VERB  0.168324  0.109756  0.065558  0.134069  0.091813  0.022371  0.218269   \n",
       "NOUN  0.147047  0.264474  0.012336  0.013100  0.176304  0.009534  0.028820   \n",
       "ADJ   0.011513  0.699342  0.066776  0.004770  0.077467  0.021217  0.020724   \n",
       "DET   0.039604  0.640063  0.204419  0.005433  0.009297  0.022217  0.044434   \n",
       "ADP   0.008658  0.323536  0.106563  0.323856  0.016888  0.061992  0.034096   \n",
       "NUM   0.018392  0.353604  0.032631  0.003263  0.034411  0.185998  0.212993   \n",
       "X     0.202265  0.062211  0.016271  0.055511  0.144202  0.002552  0.074813   \n",
       "CONJ  0.159059  0.349470  0.117566  0.118949  0.053020  0.041955  0.008299   \n",
       "PRT   0.401305  0.247961  0.084829  0.101794  0.019576  0.056770  0.012724   \n",
       "PRON  0.484755  0.210343  0.073717  0.010035  0.022385  0.007333  0.091856   \n",
       ".     0.088568  0.222452  0.044149  0.173277  0.091080  0.081120  0.027100   \n",
       "ADV   0.344382  0.031488  0.129599  0.068280  0.117667  0.032151  0.023202   \n",
       "\n",
       "          CONJ       PRT      PRON         .       ADV  \n",
       "VERB  0.005282  0.031303  0.035343  0.035110  0.082803  \n",
       "NOUN  0.043303  0.044067  0.004767  0.239475  0.016775  \n",
       "ADJ   0.016941  0.011020  0.000658  0.064803  0.004770  \n",
       "DET   0.000483  0.000241  0.003502  0.017749  0.012557  \n",
       "ADP   0.000855  0.001389  0.068726  0.040402  0.013040  \n",
       "NUM   0.013942  0.026698  0.001483  0.113913  0.002670  \n",
       "X     0.010368  0.185676  0.056149  0.164620  0.025363  \n",
       "CONJ  0.000461  0.004149  0.056708  0.035500  0.054864  \n",
       "PRT   0.002284  0.001958  0.018923  0.042088  0.009788  \n",
       "PRON  0.005017  0.012350  0.006947  0.041297  0.033964  \n",
       ".     0.057520  0.002333  0.065147  0.094311  0.052854  \n",
       "ADV   0.007292  0.013921  0.015578  0.136560  0.079881  "
      ]
     },
     "execution_count": 305,
     "metadata": {},
     "output_type": "execute_result"
    }
   ],
   "source": [
    "tags_df"
   ]
  },
  {
   "cell_type": "code",
   "execution_count": 306,
   "metadata": {},
   "outputs": [
    {
     "data": {
      "image/png": "[encoded data removed]",
      "text/plain": [
       "<Figure size 864x864 with 2 Axes>"
      ]
     },
     "metadata": {
      "needs_background": "light"
     },
     "output_type": "display_data"
    }
   ],
   "source": [
    "# heatmap of tags matrix\n",
    "# T(i, j) means P(tag j given tag i)\n",
    "plt.figure(figsize=(12, 12))\n",
    "sns.heatmap(tags_df)\n",
    "plt.show()\n"
   ]
  },
  {
   "cell_type": "code",
   "execution_count": 307,
   "metadata": {},
   "outputs": [
    {
     "name": "stdout",
     "output_type": "stream",
     "text": [
      "(5301, 8282)\n",
      "(4252, 6080)\n"
     ]
    }
   ],
   "source": [
    "print (t2_given_t1 ('NOUN', 'DET'))\n",
    "print (t2_given_t1 ('NOUN', 'ADJ'))"
   ]
  },
  {
   "cell_type": "markdown",
   "metadata": {},
   "source": [
    "### Build the vanilla Viterbi based POS tagger"
   ]
  },
  {
   "cell_type": "code",
   "execution_count": 308,
   "metadata": {},
   "outputs": [
    {
     "data": {
      "text/plain": [
       "95699"
      ]
     },
     "execution_count": 308,
     "metadata": {},
     "output_type": "execute_result"
    }
   ],
   "source": [
    "len(train_tagged_words)"
   ]
  },
  {
   "cell_type": "markdown",
   "metadata": {},
   "source": [
    "# Vanilla Viterbi Heuristic"
   ]
  },
  {
   "cell_type": "code",
   "execution_count": 309,
   "metadata": {},
   "outputs": [],
   "source": [
    "# Viterbi Heuristic\n",
    "def Viterbi(words, train_bag = train_tagged_words):\n",
    "    state = []\n",
    "    T = list(set([pair[1] for pair in train_bag]))\n",
    "    \n",
    "    for key, word in enumerate(words):\n",
    "        #initialise list of probability column for a given observation\n",
    "        p = [] \n",
    "        for tag in T:\n",
    "            if key == 0:\n",
    "                transition_p = tags_df.loc['.', tag]\n",
    "            else:\n",
    "                transition_p = tags_df.loc[state[-1], tag]\n",
    "                \n",
    "            # compute emission and state probabilities\n",
    "            emission_p = word_given_tag(words[key], tag)[0]/word_given_tag(words[key], tag)[1]\n",
    "            state_probability = emission_p * transition_p    \n",
    "            p.append(state_probability)\n",
    "            \n",
    "        pmax = max(p)\n",
    "        # getting state for which probability is maximum\n",
    "        state_max = T[p.index(pmax)] \n",
    "        state.append(state_max)\n",
    "    return list(zip(words, state))\n"
   ]
  },
  {
   "cell_type": "markdown",
   "metadata": {},
   "source": [
    "# Creating a test sample of only 10 sentences"
   ]
  },
  {
   "cell_type": "code",
   "execution_count": 310,
   "metadata": {},
   "outputs": [
    {
     "data": {
      "text/plain": [
       "[[('The', 'DET'),\n",
       "  ('spokesman', 'NOUN'),\n",
       "  ('said', 'VERB'),\n",
       "  ('0', 'X'),\n",
       "  ('it', 'PRON'),\n",
       "  ('is', 'VERB'),\n",
       "  ('the', 'DET'),\n",
       "  ('first', 'ADV'),\n",
       "  ('early', 'ADJ'),\n",
       "  ('retirement', 'NOUN'),\n",
       "  ('plan', 'NOUN'),\n",
       "  ('offered', 'VERB'),\n",
       "  ('under', 'ADP'),\n",
       "  ('its', 'PRON'),\n",
       "  ('two-year', 'ADJ'),\n",
       "  ('cost-control', 'ADJ'),\n",
       "  ('strategy', 'NOUN'),\n",
       "  ('.', '.')],\n",
       " [('Citizens', 'NOUN'),\n",
       "  ('in', 'ADP'),\n",
       "  ('Peninsula', 'NOUN'),\n",
       "  (',', '.'),\n",
       "  ('Ohio', 'NOUN'),\n",
       "  (',', '.'),\n",
       "  ('*-1', 'X'),\n",
       "  ('upset', 'VERB'),\n",
       "  ('over', 'ADP'),\n",
       "  ('changes', 'NOUN'),\n",
       "  ('to', 'PRT'),\n",
       "  ('a', 'DET'),\n",
       "  ('bridge', 'NOUN'),\n",
       "  (',', '.'),\n",
       "  ('negotiated', 'VERB'),\n",
       "  ('a', 'DET'),\n",
       "  ('deal', 'NOUN'),\n",
       "  (':', '.'),\n",
       "  ('The', 'DET'),\n",
       "  ('bottom', 'NOUN'),\n",
       "  ('half', 'NOUN'),\n",
       "  ('of', 'ADP'),\n",
       "  ('the', 'DET'),\n",
       "  ('railing', 'NOUN'),\n",
       "  ('will', 'VERB'),\n",
       "  ('be', 'VERB'),\n",
       "  ('type', 'NOUN'),\n",
       "  ('F', 'NOUN'),\n",
       "  (',', '.'),\n",
       "  ('while', 'ADP'),\n",
       "  ('the', 'DET'),\n",
       "  ('top', 'ADJ'),\n",
       "  ('half', 'NOUN'),\n",
       "  ('will', 'VERB'),\n",
       "  ('have', 'VERB'),\n",
       "  ('the', 'DET'),\n",
       "  ('old', 'ADJ'),\n",
       "  ('bridge', 'NOUN'),\n",
       "  (\"'s\", 'PRT'),\n",
       "  ('floral', 'ADJ'),\n",
       "  ('pattern', 'NOUN'),\n",
       "  ('.', '.')],\n",
       " [('Sales', 'NOUN'),\n",
       "  ('rose', 'VERB'),\n",
       "  ('to', 'PRT'),\n",
       "  ('$', '.'),\n",
       "  ('9.8', 'NUM'),\n",
       "  ('million', 'NUM'),\n",
       "  ('*U*', 'X'),\n",
       "  ('from', 'ADP'),\n",
       "  ('$', '.'),\n",
       "  ('8.9', 'NUM'),\n",
       "  ('million', 'NUM'),\n",
       "  ('*U*', 'X'),\n",
       "  ('.', '.')],\n",
       " [('Last', 'ADJ'),\n",
       "  ('month', 'NOUN'),\n",
       "  (',', '.'),\n",
       "  ('Judge', 'NOUN'),\n",
       "  ('Curry', 'NOUN'),\n",
       "  ('set', 'VERB'),\n",
       "  ('the', 'DET'),\n",
       "  ('interest', 'NOUN'),\n",
       "  ('rate', 'NOUN'),\n",
       "  ('on', 'ADP'),\n",
       "  ('the', 'DET'),\n",
       "  ('refund', 'NOUN'),\n",
       "  ('at', 'ADP'),\n",
       "  ('9', 'NUM'),\n",
       "  ('%', 'NOUN'),\n",
       "  ('.', '.')],\n",
       " [('These', 'DET'),\n",
       "  ('days', 'NOUN'),\n",
       "  (',', '.'),\n",
       "  ('students', 'NOUN'),\n",
       "  ('can', 'VERB'),\n",
       "  ('often', 'ADV'),\n",
       "  ('find', 'VERB'),\n",
       "  ('the', 'DET'),\n",
       "  ('answer', 'NOUN'),\n",
       "  ('in', 'ADP'),\n",
       "  ('test-coaching', 'ADJ'),\n",
       "  ('workbooks', 'NOUN'),\n",
       "  ('and', 'CONJ'),\n",
       "  ('worksheets', 'NOUN'),\n",
       "  ('0', 'X'),\n",
       "  ('their', 'PRON'),\n",
       "  ('teachers', 'NOUN'),\n",
       "  ('give', 'VERB'),\n",
       "  ('them', 'PRON'),\n",
       "  ('*T*-1', 'X'),\n",
       "  ('in', 'ADP'),\n",
       "  ('the', 'DET'),\n",
       "  ('weeks', 'NOUN'),\n",
       "  ('prior', 'ADV'),\n",
       "  ('to', 'PRT'),\n",
       "  ('*', 'X'),\n",
       "  ('taking', 'VERB'),\n",
       "  ('standardized', 'ADJ'),\n",
       "  ('achievement', 'NOUN'),\n",
       "  ('tests', 'NOUN'),\n",
       "  ('.', '.')],\n",
       " [('Mr.', 'NOUN'),\n",
       "  ('Harper', 'NOUN'),\n",
       "  ('expressed', 'VERB'),\n",
       "  ('confidence', 'NOUN'),\n",
       "  ('that', 'ADP'),\n",
       "  ('he', 'PRON'),\n",
       "  ('and', 'CONJ'),\n",
       "  ('Mr.', 'NOUN'),\n",
       "  ('Baum', 'NOUN'),\n",
       "  ('can', 'VERB'),\n",
       "  ('convince', 'VERB'),\n",
       "  ('the', 'DET'),\n",
       "  ('board', 'NOUN'),\n",
       "  ('of', 'ADP'),\n",
       "  ('their', 'PRON'),\n",
       "  ('worthiness', 'NOUN'),\n",
       "  ('*', 'X'),\n",
       "  ('to', 'PRT'),\n",
       "  ('run', 'VERB'),\n",
       "  ('the', 'DET'),\n",
       "  ('company', 'NOUN'),\n",
       "  ('.', '.')],\n",
       " [('His', 'PRON'),\n",
       "  ('longer', 'ADJ'),\n",
       "  ('analysis', 'NOUN'),\n",
       "  ('of', 'ADP'),\n",
       "  ('executive', 'ADJ'),\n",
       "  ('power', 'NOUN'),\n",
       "  ('and', 'CONJ'),\n",
       "  ('the', 'DET'),\n",
       "  ('appropriations', 'NOUN'),\n",
       "  ('clause', 'NOUN'),\n",
       "  ('is', 'VERB'),\n",
       "  ('*-1', 'X'),\n",
       "  ('to', 'PRT'),\n",
       "  ('appear', 'VERB'),\n",
       "  ('in', 'ADP'),\n",
       "  ('the', 'DET'),\n",
       "  ('Duke', 'NOUN'),\n",
       "  ('Law', 'NOUN'),\n",
       "  ('Journal', 'NOUN'),\n",
       "  ('later', 'ADJ'),\n",
       "  ('this', 'DET'),\n",
       "  ('year', 'NOUN'),\n",
       "  ('.', '.')],\n",
       " [('``', '.'),\n",
       "  ('Right', 'ADV'),\n",
       "  ('now', 'ADV'),\n",
       "  (',', '.'),\n",
       "  ('we', 'PRON'),\n",
       "  (\"'re\", 'VERB'),\n",
       "  ('lucky', 'ADJ'),\n",
       "  ('if', 'ADP'),\n",
       "  ('after', 'ADP'),\n",
       "  ('five', 'NUM'),\n",
       "  ('years', 'NOUN'),\n",
       "  ('we', 'PRON'),\n",
       "  ('keep', 'VERB'),\n",
       "  ('one', 'NUM'),\n",
       "  ('new', 'ADJ'),\n",
       "  ('ringer', 'NOUN'),\n",
       "  ('out', 'ADP'),\n",
       "  ('of', 'ADP'),\n",
       "  ('10', 'NUM'),\n",
       "  (',', '.'),\n",
       "  (\"''\", '.'),\n",
       "  ('he', 'PRON'),\n",
       "  ('adds', 'VERB'),\n",
       "  ('*T*-1', 'X'),\n",
       "  ('.', '.')],\n",
       " [('All', 'DET'),\n",
       "  ('came', 'VERB'),\n",
       "  ('from', 'ADP'),\n",
       "  ('Cray', 'NOUN'),\n",
       "  ('Research', 'NOUN'),\n",
       "  ('.', '.')],\n",
       " [('Everything', 'NOUN'),\n",
       "  ('will', 'VERB'),\n",
       "  ('be', 'VERB'),\n",
       "  ('taken', 'VERB'),\n",
       "  ('over', 'PRT'),\n",
       "  ('*-1', 'X'),\n",
       "  ('by', 'ADP'),\n",
       "  ('the', 'DET'),\n",
       "  ('new', 'ADJ'),\n",
       "  ('company', 'NOUN'),\n",
       "  (',', '.'),\n",
       "  (\"''\", '.'),\n",
       "  ('said', 'VERB'),\n",
       "  ('*T*-2', 'X'),\n",
       "  ('Christian', 'NOUN'),\n",
       "  ('Andersson', 'NOUN'),\n",
       "  (',', '.'),\n",
       "  ('executive', 'ADJ'),\n",
       "  ('vice', 'NOUN'),\n",
       "  ('president', 'NOUN'),\n",
       "  ('of', 'ADP'),\n",
       "  ('Oy', 'NOUN'),\n",
       "  ('Waertsilae', 'NOUN'),\n",
       "  (',', '.'),\n",
       "  ('former', 'ADJ'),\n",
       "  ('parent', 'NOUN'),\n",
       "  ('of', 'ADP'),\n",
       "  ('Waertsilae', 'NOUN'),\n",
       "  ('Marine', 'NOUN'),\n",
       "  ('.', '.')]]"
      ]
     },
     "execution_count": 310,
     "metadata": {},
     "output_type": "execute_result"
    }
   ],
   "source": [
    "# Running on entire test dataset would take more than 3-4hrs. \n",
    "# Let's test our Viterbi algorithm on a few sample sentences of test dataset\n",
    "\n",
    "random.seed(1234)\n",
    "\n",
    "# choose random 5 sents\n",
    "rndom = [random.randint(1,len(test_set)) for x in range(10)]\n",
    "\n",
    "# list of sents\n",
    "test_run = [test_set[i] for i in rndom]\n",
    "\n",
    "# list of tagged words\n",
    "test_run_base = [tup for sent in test_run for tup in sent]\n",
    "\n",
    "# list of untagged words\n",
    "test_tagged_words = [tup[0] for sent in test_run for tup in sent]\n",
    "test_run"
   ]
  },
  {
   "cell_type": "markdown",
   "metadata": {},
   "source": [
    "# Full test set"
   ]
  },
  {
   "cell_type": "code",
   "execution_count": 311,
   "metadata": {},
   "outputs": [],
   "source": [
    "## Tagging all the words in the test set\n",
    "\n",
    "# list of tagged words\n",
    "full_test_run_base = [tup for sent in test_set for tup in sent]\n",
    "\n",
    "# list of untagged words\n",
    "full_test_tagged_words = [tup[0] for sent in test_set for tup in sent]\n"
   ]
  },
  {
   "cell_type": "code",
   "execution_count": 312,
   "metadata": {},
   "outputs": [
    {
     "name": "stdout",
     "output_type": "stream",
     "text": [
      "4977\n"
     ]
    }
   ],
   "source": [
    "print (len(full_test_tagged_words))"
   ]
  },
  {
   "cell_type": "code",
   "execution_count": 313,
   "metadata": {},
   "outputs": [
    {
     "name": "stdout",
     "output_type": "stream",
     "text": [
      "727.1367506980896\n"
     ]
    }
   ],
   "source": [
    "# tagging the test sentences\n",
    "start = time.time()\n",
    "tagged_seq = Viterbi(full_test_tagged_words)\n",
    "end = time.time()\n",
    "difference = end-start\n",
    "print (difference)"
   ]
  },
  {
   "cell_type": "code",
   "execution_count": 317,
   "metadata": {},
   "outputs": [],
   "source": [
    "# accuracy\n",
    "check = [i for i, j in zip(tagged_seq, full_test_run_base) if i == j] ## test_run_base, full_test_run_base\n",
    "#check"
   ]
  },
  {
   "cell_type": "code",
   "execution_count": 318,
   "metadata": {},
   "outputs": [
    {
     "data": {
      "text/plain": [
       "0.9194293751255777"
      ]
     },
     "execution_count": 318,
     "metadata": {},
     "output_type": "execute_result"
    }
   ],
   "source": [
    "accuracy = len(check)/len(tagged_seq)\n",
    "accuracy"
   ]
  },
  {
   "cell_type": "markdown",
   "metadata": {},
   "source": [
    "# Which tag class do you think most unknown words belong to?\n",
    "Counter({'VERB': 286, 'NOUN': 31, 'ADJ': 22, 'ADV': 21, 'ADP': 17, 'DET': 4, 'PRT': 3, 'CONJ': 1})\n",
    "\n",
    "VERB"
   ]
  },
  {
   "cell_type": "code",
   "execution_count": 319,
   "metadata": {},
   "outputs": [
    {
     "name": "stdout",
     "output_type": "stream",
     "text": [
      "Counter({'VERB': 281, 'NOUN': 31, 'ADJ': 28, 'ADP': 27, 'ADV': 21, 'DET': 6, 'PRT': 5, 'PRON': 1, 'NUM': 1})\n"
     ]
    }
   ],
   "source": [
    "## Assuming all the incorrectly tagged words are unknown words\n",
    "\n",
    "unknown_tupple = []\n",
    "\n",
    "for i in range(len(full_test_run_base)):\n",
    "    if (full_test_run_base[i][1] != tagged_seq[i][1]) :\n",
    "        unknown_tupple.append (tagged_seq[i])\n",
    "        \n",
    "#print (unknown_tupple)\n",
    "\n",
    "tagged_counts = Counter(i[1] for i in unknown_tupple)\n",
    "print (tagged_counts)"
   ]
  },
  {
   "cell_type": "code",
   "execution_count": 320,
   "metadata": {},
   "outputs": [
    {
     "name": "stdout",
     "output_type": "stream",
     "text": [
      "Counter({'VERB': 344})\n"
     ]
    }
   ],
   "source": [
    "unknown_words = []\n",
    "#for i in set(full_test_tagged_words):\n",
    "for i in full_test_tagged_words:\n",
    "    flag = 0\n",
    "    for j in V:\n",
    "        if (i == j):\n",
    "            flag = 1\n",
    "    if (flag == 0):\n",
    "        unknown_words.append(i)\n",
    "\n",
    "tagged = []\n",
    "for i in unknown_words:\n",
    "    for j in range (len(tagged_seq)):\n",
    "        if (i == tagged_seq[j][0]):\n",
    "            tagged.append(tagged_seq[j])\n",
    "            #print (tagged_seq[j])\n",
    "            \n",
    "tagged_counts = Counter(i[1] for i in tagged)\n",
    "print (tagged_counts)\n",
    " \n"
   ]
  },
  {
   "cell_type": "markdown",
   "metadata": {},
   "source": [
    "### Solve the problem of unknown words"
   ]
  },
  {
   "cell_type": "markdown",
   "metadata": {},
   "source": [
    "Viterbi_UKN_1\n",
    "\n",
    "using the standard nltk.pos_tag to tag the unknown words."
   ]
  },
  {
   "cell_type": "code",
   "execution_count": 322,
   "metadata": {},
   "outputs": [],
   "source": [
    "# Viterbi Heuristic\n",
    "def Viterbi_UKN_1(words, train_bag = train_tagged_words):\n",
    "    state = []\n",
    "    T = list(set([pair[1] for pair in train_bag]))\n",
    "    \n",
    "    for key, word in enumerate(words):\n",
    "        #initialise list of probability column for a given observation\n",
    "        p = [] \n",
    "        for tag in T:\n",
    "            if key == 0:\n",
    "                transition_p = tags_df.loc['.', tag]\n",
    "            else:\n",
    "                transition_p = tags_df.loc[state[-1], tag]\n",
    "                \n",
    "            # compute emission and state probabilities\n",
    "            emission_p = word_given_tag(words[key], tag)[0]/word_given_tag(words[key], tag)[1]\n",
    "            state_probability = emission_p * transition_p    \n",
    "            p.append(state_probability)\n",
    "            \n",
    "        pmax = max(p)\n",
    "        # getting state for which probability is maximum\n",
    "        if (pmax != 0):\n",
    "            state_max = T[p.index(pmax)]\n",
    "        else:\n",
    "            state_max = nltk.pos_tag([word], tagset='universal')[0][1]\n",
    "        state.append(state_max)\n",
    "    return list(zip(words, state))\n"
   ]
  },
  {
   "cell_type": "code",
   "execution_count": 323,
   "metadata": {},
   "outputs": [],
   "source": [
    "# specify patterns for tagging\n",
    "# example from the NLTK book\n",
    "patterns = [\n",
    "    (r'.*ing$', 'VERB'),              # gerund\n",
    "    (r'.*ed$', 'VERB'),               # past tense\n",
    "    (r'.*es$', 'VERB'),               # 3rd singular present\n",
    "    #(r'.*ould$', 'MD'),              # modals\n",
    "    (r'.*\\'s$', 'NOUN'),              # possessive nouns\n",
    "    (r'.*s$', 'NOUN'),                # plural nouns\n",
    "    (r'^-?[0-9]+(.[0-9]+)?$', 'NUM'), # cardinal numbers\n",
    "    (r'.*', 'NOUN')                    # nouns\n",
    "]"
   ]
  },
  {
   "cell_type": "code",
   "execution_count": 324,
   "metadata": {},
   "outputs": [],
   "source": [
    "regexp_tagger = nltk.RegexpTagger(patterns)\n",
    "# help(regexp_tagger)"
   ]
  },
  {
   "cell_type": "code",
   "execution_count": 325,
   "metadata": {},
   "outputs": [],
   "source": [
    "# rule based tagger\n",
    "rule_based_tagger = nltk.RegexpTagger(patterns)\n",
    "\n",
    "# lexicon backed up by the rule-based tagger\n",
    "lexicon_tagger = nltk.UnigramTagger(nltk_data, backoff=rule_based_tagger)"
   ]
  },
  {
   "cell_type": "markdown",
   "metadata": {},
   "source": [
    "Viterbi_UKN_2\n",
    "\n",
    "Using the unigramtagger with a rule_based_tagger as the back off"
   ]
  },
  {
   "cell_type": "code",
   "execution_count": 326,
   "metadata": {},
   "outputs": [],
   "source": [
    "# Viterbi Heuristic\n",
    "def Viterbi_UKN_2(words, train_bag = train_tagged_words):\n",
    "    state = []\n",
    "    T = list(set([pair[1] for pair in train_bag]))\n",
    "    \n",
    "    for key, word in enumerate(words):\n",
    "        #initialise list of probability column for a given observation\n",
    "        p = [] \n",
    "        for tag in T:\n",
    "            if key == 0:\n",
    "                transition_p = tags_df.loc['.', tag]\n",
    "            else:\n",
    "                transition_p = tags_df.loc[state[-1], tag]\n",
    "                \n",
    "            # compute emission and state probabilities\n",
    "            emission_p = word_given_tag(words[key], tag)[0]/word_given_tag(words[key], tag)[1]\n",
    "            state_probability = emission_p * transition_p    \n",
    "            p.append(state_probability)\n",
    "            \n",
    "        pmax = max(p)\n",
    "        # getting state for which probability is maximum\n",
    "        if (pmax != 0):\n",
    "            state_max = T[p.index(pmax)]\n",
    "        else:\n",
    "            state_max = lexicon_tagger.tag ([word])[0][1]\n",
    "            #state_max = nltk.pos_tag([word], tagset='universal')[0][1]\n",
    "        state.append(state_max)\n",
    "    return list(zip(words, state))\n"
   ]
  },
  {
   "cell_type": "code",
   "execution_count": 327,
   "metadata": {},
   "outputs": [],
   "source": [
    "bigram_tagger = nltk.BigramTagger(nltk_data, backoff=rule_based_tagger)"
   ]
  },
  {
   "cell_type": "markdown",
   "metadata": {},
   "source": [
    "Viterbi_UKN_3\n",
    "\n",
    "Using the bigram tagger with a rule_based_tagger as the back off"
   ]
  },
  {
   "cell_type": "code",
   "execution_count": 328,
   "metadata": {},
   "outputs": [],
   "source": [
    "# Viterbi Heuristic\n",
    "def Viterbi_UKN_3(words, train_bag = train_tagged_words):\n",
    "    state = []\n",
    "    T = list(set([pair[1] for pair in train_bag]))\n",
    "    \n",
    "    for key, word in enumerate(words):\n",
    "        #initialise list of probability column for a given observation\n",
    "        p = [] \n",
    "        for tag in T:\n",
    "            if key == 0:\n",
    "                transition_p = tags_df.loc['.', tag]\n",
    "            else:\n",
    "                transition_p = tags_df.loc[state[-1], tag]\n",
    "                \n",
    "            # compute emission and state probabilities\n",
    "            emission_p = word_given_tag(words[key], tag)[0]/word_given_tag(words[key], tag)[1]\n",
    "            state_probability = emission_p * transition_p    \n",
    "            p.append(state_probability)\n",
    "            \n",
    "        pmax = max(p)\n",
    "        # getting state for which probability is maximum\n",
    "        if (pmax != 0):\n",
    "            state_max = T[p.index(pmax)]\n",
    "        else:\n",
    "            state_max = bigram_tagger.tag ([word])[0][1]\n",
    "            #state_max = nltk.pos_tag([word], tagset='universal')[0][1]\n",
    "        state.append(state_max)\n",
    "    return list(zip(words, state))"
   ]
  },
  {
   "cell_type": "markdown",
   "metadata": {},
   "source": [
    "#### Evaluating tagging accuracy"
   ]
  },
  {
   "cell_type": "code",
   "execution_count": 329,
   "metadata": {},
   "outputs": [],
   "source": [
    "# tagging the test sentences\n",
    "start = time.time()\n",
    "tagged_seq = Viterbi(test_tagged_words)\n",
    "end = time.time()\n",
    "difference = end-start\n",
    "\n",
    "def tagging_accuracy (tagged_seq):\n",
    "    # accuracy\n",
    "    check = [i for i, j in zip(tagged_seq, test_run_base) if i == j]\n",
    "\n",
    "    return (len(check)/len(tagged_seq))"
   ]
  },
  {
   "cell_type": "markdown",
   "metadata": {},
   "source": [
    "### Compare the tagging accuracies of the modifications with the vanilla Viterbi algorithm"
   ]
  },
  {
   "cell_type": "code",
   "execution_count": 330,
   "metadata": {},
   "outputs": [
    {
     "data": {
      "text/plain": [
       "0.9292035398230089"
      ]
     },
     "execution_count": 330,
     "metadata": {},
     "output_type": "execute_result"
    }
   ],
   "source": [
    "### using Vainila Viterbi\n",
    "start = time.time()\n",
    "tagged_seq = Viterbi(test_tagged_words)\n",
    "end = time.time()\n",
    "difference = end-start\n",
    "\n",
    "tagging_accuracy (tagged_seq)"
   ]
  },
  {
   "cell_type": "code",
   "execution_count": 331,
   "metadata": {},
   "outputs": [
    {
     "data": {
      "text/plain": [
       "0.9646017699115044"
      ]
     },
     "execution_count": 331,
     "metadata": {},
     "output_type": "execute_result"
    }
   ],
   "source": [
    "### using the standard nltk.pos_tag to tag the unknown words.\n",
    "start = time.time()\n",
    "tagged_seq = Viterbi_UKN_1(test_tagged_words)\n",
    "end = time.time()\n",
    "difference = end-start\n",
    "\n",
    "tagging_accuracy (tagged_seq)"
   ]
  },
  {
   "cell_type": "code",
   "execution_count": 332,
   "metadata": {},
   "outputs": [
    {
     "data": {
      "text/plain": [
       "0.9734513274336283"
      ]
     },
     "execution_count": 332,
     "metadata": {},
     "output_type": "execute_result"
    }
   ],
   "source": [
    "### Using the unigramtagger with a rule_based_tagger as the back off\n",
    "\n",
    "start = time.time()\n",
    "tagged_seq = Viterbi_UKN_2(test_tagged_words)\n",
    "end = time.time()\n",
    "difference = end-start\n",
    "\n",
    "tagging_accuracy (tagged_seq)"
   ]
  },
  {
   "cell_type": "code",
   "execution_count": 333,
   "metadata": {},
   "outputs": [
    {
     "data": {
      "text/plain": [
       "0.9557522123893806"
      ]
     },
     "execution_count": 333,
     "metadata": {},
     "output_type": "execute_result"
    }
   ],
   "source": [
    "### Using the bigramtagger with a rule_based_tagger as the back off\n",
    "\n",
    "start = time.time()\n",
    "tagged_seq = Viterbi_UKN_3(test_tagged_words)\n",
    "end = time.time()\n",
    "difference = end-start\n",
    "\n",
    "tagging_accuracy (tagged_seq)"
   ]
  },
  {
   "cell_type": "markdown",
   "metadata": {},
   "source": [
    "### List down cases which were incorrectly tagged by original POS tagger and got corrected by your modifications"
   ]
  },
  {
   "cell_type": "code",
   "execution_count": 334,
   "metadata": {},
   "outputs": [],
   "source": [
    "## Testing\n",
    "\n",
    "def tag_comparision (sentence):\n",
    "    \n",
    "    sentence_test = sentence\n",
    "    words = word_tokenize(sentence_test)\n",
    "\n",
    "    start = time.time()\n",
    "    tagged_seq_0 = Viterbi(words)\n",
    "    tagged_seq_1 = Viterbi_UKN_1(words)\n",
    "    tagged_seq_2 = Viterbi_UKN_2(words)\n",
    "    tagged_seq_3 = Viterbi_UKN_3(words)\n",
    "\n",
    "    end = time.time()\n",
    "    difference = end-start\n",
    "    print (difference)\n",
    "    \n",
    "    temp = {'Text': [tag [0] for tag in tagged_seq_0],\n",
    "       'Viterbi_tag': [tag[1] for tag in tagged_seq_0],\n",
    "       'Viterbi+NLTK POS' : [tag[1] for tag in tagged_seq_1],\n",
    "       'Viterbi+Uni+regex' : [tag[1] for tag in tagged_seq_2],\n",
    "       'Viterbi+Bi+regex': [tag[1] for tag in tagged_seq_3]}\n",
    "\n",
    "    #temp \n",
    "    df = pd.DataFrame(temp, columns=['Text', 'Viterbi_tag', 'Viterbi+NLTK POS', 'Viterbi+Uni+regex', 'Viterbi+Bi+regex'])\n",
    "    return df"
   ]
  },
  {
   "cell_type": "markdown",
   "metadata": {},
   "source": [
    "# Check the tags with different algorithms"
   ]
  },
  {
   "cell_type": "code",
   "execution_count": 335,
   "metadata": {},
   "outputs": [
    {
     "name": "stdout",
     "output_type": "stream",
     "text": [
      "11.801417112350464\n"
     ]
    },
    {
     "data": {
      "text/html": [
       "<div>\n",
       "<style scoped>\n",
       "    .dataframe tbody tr th:only-of-type {\n",
       "        vertical-align: middle;\n",
       "    }\n",
       "\n",
       "    .dataframe tbody tr th {\n",
       "        vertical-align: top;\n",
       "    }\n",
       "\n",
       "    .dataframe thead th {\n",
       "        text-align: right;\n",
       "    }\n",
       "</style>\n",
       "<table border=\"1\" class=\"dataframe\">\n",
       "  <thead>\n",
       "    <tr style=\"text-align: right;\">\n",
       "      <th></th>\n",
       "      <th>Text</th>\n",
       "      <th>Viterbi_tag</th>\n",
       "      <th>Viterbi+NLTK POS</th>\n",
       "      <th>Viterbi+Uni+regex</th>\n",
       "      <th>Viterbi+Bi+regex</th>\n",
       "    </tr>\n",
       "  </thead>\n",
       "  <tbody>\n",
       "    <tr>\n",
       "      <th>1</th>\n",
       "      <td>2018</td>\n",
       "      <td>VERB</td>\n",
       "      <td>NUM</td>\n",
       "      <td>NUM</td>\n",
       "      <td>NUM</td>\n",
       "    </tr>\n",
       "    <tr>\n",
       "      <th>2</th>\n",
       "      <td>FIFA</td>\n",
       "      <td>VERB</td>\n",
       "      <td>NOUN</td>\n",
       "      <td>NOUN</td>\n",
       "      <td>NOUN</td>\n",
       "    </tr>\n",
       "    <tr>\n",
       "      <th>4</th>\n",
       "      <td>Cup</td>\n",
       "      <td>VERB</td>\n",
       "      <td>NOUN</td>\n",
       "      <td>NOUN</td>\n",
       "      <td>NOUN</td>\n",
       "    </tr>\n",
       "    <tr>\n",
       "      <th>7</th>\n",
       "      <td>21st</td>\n",
       "      <td>VERB</td>\n",
       "      <td>NUM</td>\n",
       "      <td>NOUN</td>\n",
       "      <td>NOUN</td>\n",
       "    </tr>\n",
       "    <tr>\n",
       "      <th>8</th>\n",
       "      <td>FIFA</td>\n",
       "      <td>VERB</td>\n",
       "      <td>NOUN</td>\n",
       "      <td>NOUN</td>\n",
       "      <td>NOUN</td>\n",
       "    </tr>\n",
       "    <tr>\n",
       "      <th>10</th>\n",
       "      <td>Cup</td>\n",
       "      <td>VERB</td>\n",
       "      <td>NOUN</td>\n",
       "      <td>NOUN</td>\n",
       "      <td>NOUN</td>\n",
       "    </tr>\n",
       "    <tr>\n",
       "      <th>15</th>\n",
       "      <td>tournament</td>\n",
       "      <td>VERB</td>\n",
       "      <td>NOUN</td>\n",
       "      <td>NOUN</td>\n",
       "      <td>NOUN</td>\n",
       "    </tr>\n",
       "  </tbody>\n",
       "</table>\n",
       "</div>"
      ],
      "text/plain": [
       "          Text Viterbi_tag Viterbi+NLTK POS Viterbi+Uni+regex Viterbi+Bi+regex\n",
       "1         2018        VERB              NUM               NUM              NUM\n",
       "2         FIFA        VERB             NOUN              NOUN             NOUN\n",
       "4          Cup        VERB             NOUN              NOUN             NOUN\n",
       "7         21st        VERB              NUM              NOUN             NOUN\n",
       "8         FIFA        VERB             NOUN              NOUN             NOUN\n",
       "10         Cup        VERB             NOUN              NOUN             NOUN\n",
       "15  tournament        VERB             NOUN              NOUN             NOUN"
      ]
     },
     "execution_count": 335,
     "metadata": {},
     "output_type": "execute_result"
    }
   ],
   "source": [
    "df_1 = tag_comparision (\"The 2018 FIFA World Cup is the 21st FIFA World Cup, an international football tournament contested once every four years.\")\n",
    "\n",
    "\n",
    "df_1.loc [ (df_1 ['Viterbi_tag'] != df_1 ['Viterbi+NLTK POS']) |\n",
    "          (df_1 ['Viterbi_tag'] != df_1 ['Viterbi+Uni+regex']) |\n",
    "          (df_1 ['Viterbi_tag'] != df_1 ['Viterbi+Bi+regex']) ]\n"
   ]
  },
  {
   "cell_type": "markdown",
   "metadata": {},
   "source": [
    "# 2018, FIFA, 21st, Cup tournament are tagged incorrectly which are corrected."
   ]
  },
  {
   "cell_type": "code",
   "execution_count": 336,
   "metadata": {},
   "outputs": [
    {
     "name": "stdout",
     "output_type": "stream",
     "text": [
      "5.19314169883728\n"
     ]
    },
    {
     "data": {
      "text/html": [
       "<div>\n",
       "<style scoped>\n",
       "    .dataframe tbody tr th:only-of-type {\n",
       "        vertical-align: middle;\n",
       "    }\n",
       "\n",
       "    .dataframe tbody tr th {\n",
       "        vertical-align: top;\n",
       "    }\n",
       "\n",
       "    .dataframe thead th {\n",
       "        text-align: right;\n",
       "    }\n",
       "</style>\n",
       "<table border=\"1\" class=\"dataframe\">\n",
       "  <thead>\n",
       "    <tr style=\"text-align: right;\">\n",
       "      <th></th>\n",
       "      <th>Text</th>\n",
       "      <th>Viterbi_tag</th>\n",
       "      <th>Viterbi+NLTK POS</th>\n",
       "      <th>Viterbi+Uni+regex</th>\n",
       "      <th>Viterbi+Bi+regex</th>\n",
       "    </tr>\n",
       "  </thead>\n",
       "  <tbody>\n",
       "    <tr>\n",
       "      <th>0</th>\n",
       "      <td>Android</td>\n",
       "      <td>VERB</td>\n",
       "      <td>NOUN</td>\n",
       "      <td>NOUN</td>\n",
       "      <td>NOUN</td>\n",
       "    </tr>\n",
       "    <tr>\n",
       "      <th>8</th>\n",
       "      <td>Google</td>\n",
       "      <td>VERB</td>\n",
       "      <td>NOUN</td>\n",
       "      <td>NOUN</td>\n",
       "      <td>NOUN</td>\n",
       "    </tr>\n",
       "  </tbody>\n",
       "</table>\n",
       "</div>"
      ],
      "text/plain": [
       "      Text Viterbi_tag Viterbi+NLTK POS Viterbi+Uni+regex Viterbi+Bi+regex\n",
       "0  Android        VERB             NOUN              NOUN             NOUN\n",
       "8   Google        VERB             NOUN              NOUN             NOUN"
      ]
     },
     "execution_count": 336,
     "metadata": {},
     "output_type": "execute_result"
    }
   ],
   "source": [
    "df_1 = tag_comparision (\"Android is a mobile operating system developed by Google.\")\n",
    "\n",
    "df_1.loc [ (df_1 ['Viterbi_tag'] != df_1 ['Viterbi+NLTK POS']) |\n",
    "          (df_1 ['Viterbi_tag'] != df_1 ['Viterbi+Uni+regex']) |\n",
    "          (df_1 ['Viterbi_tag'] != df_1 ['Viterbi+Bi+regex']) ]"
   ]
  },
  {
   "cell_type": "markdown",
   "metadata": {},
   "source": [
    "# Android, Google are tagged incorrectly which are corrected."
   ]
  },
  {
   "cell_type": "code",
   "execution_count": 337,
   "metadata": {},
   "outputs": [
    {
     "name": "stdout",
     "output_type": "stream",
     "text": [
      "8.833412408828735\n"
     ]
    },
    {
     "data": {
      "text/html": [
       "<div>\n",
       "<style scoped>\n",
       "    .dataframe tbody tr th:only-of-type {\n",
       "        vertical-align: middle;\n",
       "    }\n",
       "\n",
       "    .dataframe tbody tr th {\n",
       "        vertical-align: top;\n",
       "    }\n",
       "\n",
       "    .dataframe thead th {\n",
       "        text-align: right;\n",
       "    }\n",
       "</style>\n",
       "<table border=\"1\" class=\"dataframe\">\n",
       "  <thead>\n",
       "    <tr style=\"text-align: right;\">\n",
       "      <th></th>\n",
       "      <th>Text</th>\n",
       "      <th>Viterbi_tag</th>\n",
       "      <th>Viterbi+NLTK POS</th>\n",
       "      <th>Viterbi+Uni+regex</th>\n",
       "      <th>Viterbi+Bi+regex</th>\n",
       "    </tr>\n",
       "  </thead>\n",
       "  <tbody>\n",
       "    <tr>\n",
       "      <th>0</th>\n",
       "      <td>Google</td>\n",
       "      <td>VERB</td>\n",
       "      <td>NOUN</td>\n",
       "      <td>NOUN</td>\n",
       "      <td>NOUN</td>\n",
       "    </tr>\n",
       "    <tr>\n",
       "      <th>2</th>\n",
       "      <td>Twitter</td>\n",
       "      <td>VERB</td>\n",
       "      <td>NOUN</td>\n",
       "      <td>NOUN</td>\n",
       "      <td>NOUN</td>\n",
       "    </tr>\n",
       "    <tr>\n",
       "      <th>7</th>\n",
       "      <td>2015</td>\n",
       "      <td>VERB</td>\n",
       "      <td>NUM</td>\n",
       "      <td>NUM</td>\n",
       "      <td>NUM</td>\n",
       "    </tr>\n",
       "    <tr>\n",
       "      <th>10</th>\n",
       "      <td>Google</td>\n",
       "      <td>VERB</td>\n",
       "      <td>NOUN</td>\n",
       "      <td>NOUN</td>\n",
       "      <td>NOUN</td>\n",
       "    </tr>\n",
       "    <tr>\n",
       "      <th>13</th>\n",
       "      <td>Twitter</td>\n",
       "      <td>VERB</td>\n",
       "      <td>NOUN</td>\n",
       "      <td>NOUN</td>\n",
       "      <td>NOUN</td>\n",
       "    </tr>\n",
       "    <tr>\n",
       "      <th>15</th>\n",
       "      <td>firehose</td>\n",
       "      <td>VERB</td>\n",
       "      <td>NOUN</td>\n",
       "      <td>NOUN</td>\n",
       "      <td>NOUN</td>\n",
       "    </tr>\n",
       "  </tbody>\n",
       "</table>\n",
       "</div>"
      ],
      "text/plain": [
       "        Text Viterbi_tag Viterbi+NLTK POS Viterbi+Uni+regex Viterbi+Bi+regex\n",
       "0     Google        VERB             NOUN              NOUN             NOUN\n",
       "2    Twitter        VERB             NOUN              NOUN             NOUN\n",
       "7       2015        VERB              NUM               NUM              NUM\n",
       "10    Google        VERB             NOUN              NOUN             NOUN\n",
       "13   Twitter        VERB             NOUN              NOUN             NOUN\n",
       "15  firehose        VERB             NOUN              NOUN             NOUN"
      ]
     },
     "execution_count": 337,
     "metadata": {},
     "output_type": "execute_result"
    }
   ],
   "source": [
    "df_1 = tag_comparision (\"Google and Twitter made a deal in 2015 that gave Google access to Twitter's firehose.\")\n",
    "\n",
    "df_1.loc [ (df_1 ['Viterbi_tag'] != df_1 ['Viterbi+NLTK POS']) |\n",
    "          (df_1 ['Viterbi_tag'] != df_1 ['Viterbi+Uni+regex']) |\n",
    "          (df_1 ['Viterbi_tag'] != df_1 ['Viterbi+Bi+regex']) ]"
   ]
  },
  {
   "cell_type": "markdown",
   "metadata": {},
   "source": [
    "# Google, Twitter, 2015, firehouse are tagged incorrectly whcih are corrected."
   ]
  },
  {
   "cell_type": "code",
   "execution_count": 338,
   "metadata": {},
   "outputs": [
    {
     "name": "stdout",
     "output_type": "stream",
     "text": [
      "6.952453136444092\n"
     ]
    },
    {
     "data": {
      "text/html": [
       "<div>\n",
       "<style scoped>\n",
       "    .dataframe tbody tr th:only-of-type {\n",
       "        vertical-align: middle;\n",
       "    }\n",
       "\n",
       "    .dataframe tbody tr th {\n",
       "        vertical-align: top;\n",
       "    }\n",
       "\n",
       "    .dataframe thead th {\n",
       "        text-align: right;\n",
       "    }\n",
       "</style>\n",
       "<table border=\"1\" class=\"dataframe\">\n",
       "  <thead>\n",
       "    <tr style=\"text-align: right;\">\n",
       "      <th></th>\n",
       "      <th>Text</th>\n",
       "      <th>Viterbi_tag</th>\n",
       "      <th>Viterbi+NLTK POS</th>\n",
       "      <th>Viterbi+Uni+regex</th>\n",
       "      <th>Viterbi+Bi+regex</th>\n",
       "    </tr>\n",
       "  </thead>\n",
       "  <tbody>\n",
       "    <tr>\n",
       "      <th>0</th>\n",
       "      <td>NASA</td>\n",
       "      <td>VERB</td>\n",
       "      <td>NOUN</td>\n",
       "      <td>NOUN</td>\n",
       "      <td>NOUN</td>\n",
       "    </tr>\n",
       "    <tr>\n",
       "      <th>10</th>\n",
       "      <td>ICESAT-2</td>\n",
       "      <td>VERB</td>\n",
       "      <td>NOUN</td>\n",
       "      <td>NOUN</td>\n",
       "      <td>NOUN</td>\n",
       "    </tr>\n",
       "    <tr>\n",
       "      <th>11</th>\n",
       "      <td>Satellite</td>\n",
       "      <td>VERB</td>\n",
       "      <td>NOUN</td>\n",
       "      <td>NOUN</td>\n",
       "      <td>NOUN</td>\n",
       "    </tr>\n",
       "  </tbody>\n",
       "</table>\n",
       "</div>"
      ],
      "text/plain": [
       "         Text Viterbi_tag Viterbi+NLTK POS Viterbi+Uni+regex Viterbi+Bi+regex\n",
       "0        NASA        VERB             NOUN              NOUN             NOUN\n",
       "10   ICESAT-2        VERB             NOUN              NOUN             NOUN\n",
       "11  Satellite        VERB             NOUN              NOUN             NOUN"
      ]
     },
     "execution_count": 338,
     "metadata": {},
     "output_type": "execute_result"
    }
   ],
   "source": [
    "df_1 = tag_comparision (\"NASA invited social media users to experience the launch of ICESAT-2 Satellite.\")\n",
    "\n",
    "df_1.loc [ (df_1 ['Viterbi_tag'] != df_1 ['Viterbi+NLTK POS']) |\n",
    "          (df_1 ['Viterbi_tag'] != df_1 ['Viterbi+Uni+regex']) |\n",
    "          (df_1 ['Viterbi_tag'] != df_1 ['Viterbi+Bi+regex']) ]"
   ]
  },
  {
   "cell_type": "markdown",
   "metadata": {},
   "source": [
    "# NASA, ICESAT, Satellite are tagged incorrectly which are corrected"
   ]
  },
  {
   "cell_type": "code",
   "execution_count": null,
   "metadata": {},
   "outputs": [],
   "source": []
  }
 ],
 "metadata": {
  "kernelspec": {
   "display_name": "Python 3",
   "language": "python",
   "name": "python3"
  },
  "language_info": {
   "codemirror_mode": {
    "name": "ipython",
    "version": 3
   },
   "file_extension": ".py",
   "mimetype": "text/x-python",
   "name": "python",
   "nbconvert_exporter": "python",
   "pygments_lexer": "ipython3",
   "version": "3.7.1"
  }
 },
 "nbformat": 4,
 "nbformat_minor": 2
}
